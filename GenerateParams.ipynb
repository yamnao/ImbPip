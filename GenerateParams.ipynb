{
 "cells": [
  {
   "cell_type": "markdown",
   "metadata": {},
   "source": [
    "# Find the appropriate parameters that improve a given score for a selected sampling method"
   ]
  },
  {
   "cell_type": "markdown",
   "metadata": {},
   "source": [
    "Fill the parameters.xlsx file with the parameters needed for each sampling method for a corresponding score and dataset. \n"
   ]
  },
  {
   "cell_type": "code",
   "execution_count": 1,
   "metadata": {},
   "outputs": [],
   "source": [
    "#import oversampling methods\n",
    "from oversampling_methods.assembled_smote import assembled_smote\n",
    "from oversampling_methods.cluster_smote import cluster_smote\n",
    "from oversampling_methods.cure_smote import cure_smote\n",
    "from oversampling_methods.smote import smote\n",
    "from oversampling_methods.dbsmote import dbsmote\n",
    "from oversampling_methods.de_oversampling import de_oversampling\n",
    "from oversampling_methods.gsmote import gsmote\n",
    "from oversampling_methods.kmeans_smote import kmeans_smote\n",
    "from oversampling_methods.lee import lee\n",
    "from oversampling_methods.polynom_fit_smote import polynom_fit_smote\n",
    "from oversampling_methods.prowsyn import prowsyn\n",
    "from oversampling_methods.smobd import smobd\n",
    "from oversampling_methods.smote_ipf import smote_ipf\n",
    "from oversampling_methods.wssmote import wssmote\n",
    "## Add here the sampling method you want to try\n",
    "\n",
    "#import algorithm\n",
    "from tools.generate_tab import generate_tab_to_excel\n",
    "\n",
    "#import machine learning classifier\n",
    "from sklearn.calibration import CalibratedClassifierCV\n",
    "from sklearn.svm import LinearSVC\n",
    "from sklearn.neighbors import KNeighborsClassifier\n",
    "from sklearn.tree import DecisionTreeClassifier\n",
    "from smote_variants import MLPClassifierWrapper\n",
    "from sklearn.ensemble import AdaBoostClassifier\n",
    "\n",
    "#warnings\n",
    "import warnings\n",
    "warnings.filterwarnings(\"ignore\")\n",
    "import itertools"
   ]
  },
  {
   "cell_type": "code",
   "execution_count": 2,
   "metadata": {},
   "outputs": [],
   "source": [
    "## Sampling strategies\n",
    "sampling_strategies = [assembled_smote, cluster_smote, cure_smote, smote, dbsmote, de_oversampling, gsmote, lee, \n",
    "                       polynom_fit_smote, prowsyn, smobd, smote_ipf, wssmote]\n",
    "\n",
    "## Scores to compare\n",
    "score_strategies = ['auc', 'gacc', 'p20', 'accuracy', 'f1', 'ppv', 'npv']\n",
    "\n",
    "## Given Datasets\n",
    "name_file = 'presev_before'\n",
    "\n",
    "## Classifier\n",
    "list_classifier = [AdaBoostClassifier()]\n",
    "# list_classifier= []\n",
    "for x in itertools.product(['relu', 'logistic'], [1.0, 0.5, 0.1]):\n",
    "    list_classifier.append(MLPClassifierWrapper(activation= x[0], hidden_layer_fraction= x[1]))\n",
    "for x in itertools.product([3, 5, 7], ['distance'], [1, 2, 3]):\n",
    "    list_classifier.append(KNeighborsClassifier(n_neighbors= x[0], weights= x[1], p= x[2]))\n",
    "for x in itertools.product(['gini', 'entropy'], [None, 5]):\n",
    "    list_classifier.append(DecisionTreeClassifier(criterion= x[0], max_depth= x[1]))   \n",
    "list_classifier.append(CalibratedClassifierCV(base_estimator=LinearSVC(C=1.0, penalty='l2', loss= 'squared_hinge', dual= False)))"
   ]
  },
  {
   "cell_type": "code",
   "execution_count": null,
   "metadata": {},
   "outputs": [],
   "source": [
    "## Generate parameters\n",
    "generate_tab_to_excel(sampling_strategies, score_strategies, name_file, list_classifier)"
   ]
  },
  {
   "cell_type": "code",
   "execution_count": null,
   "metadata": {},
   "outputs": [],
   "source": []
  }
 ],
 "metadata": {
  "kernelspec": {
   "display_name": "Python 3",
   "language": "python",
   "name": "python3"
  },
  "language_info": {
   "codemirror_mode": {
    "name": "ipython",
    "version": 3
   },
   "file_extension": ".py",
   "mimetype": "text/x-python",
   "name": "python",
   "nbconvert_exporter": "python",
   "pygments_lexer": "ipython3",
   "version": "3.8.5"
  }
 },
 "nbformat": 4,
 "nbformat_minor": 4
}
