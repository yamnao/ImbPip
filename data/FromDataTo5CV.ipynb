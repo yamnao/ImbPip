{
 "cells": [
  {
   "cell_type": "markdown",
   "metadata": {},
   "source": [
    "## From Data to cv train/test parts"
   ]
  },
  {
   "cell_type": "markdown",
   "metadata": {},
   "source": [
    "Objective -- Generate fixed train and test part to compare different sampling methods without the data variability"
   ]
  },
  {
   "cell_type": "code",
   "execution_count": 1,
   "metadata": {},
   "outputs": [],
   "source": [
    "from generate_data import generate_data_from_url\n",
    "from sklearn.model_selection import train_test_split\n",
    "import pandas as pd\n",
    "\n",
    "import pickle\n",
    "import numpy as np"
   ]
  },
  {
   "cell_type": "markdown",
   "metadata": {},
   "source": [
    "## Data from KEEL Repository -- Uncomment the following code if you use a dataset from the KEEL Repository"
   ]
  },
  {
   "cell_type": "code",
   "execution_count": 58,
   "metadata": {},
   "outputs": [],
   "source": [
    "# file_name = 'yeast-0-5-6-7-9_vs_4' ##Put the name of your considering dataset\n",
    "# file_link = \"https://sci2s.ugr.es/keel/dataset/data/imbalanced/{}.zip\".format(file_name)\n",
    "# data, labels = generate_data_from_url(file_link)"
   ]
  },
  {
   "cell_type": "markdown",
   "metadata": {},
   "source": [
    "## For others data -- Uncomment the following lines to generate files for the testing part"
   ]
  },
  {
   "cell_type": "code",
   "execution_count": 71,
   "metadata": {},
   "outputs": [],
   "source": [
    "# number_of_cv = 5\n",
    "# name_file = 'subcl35'\n",
    "\n",
    "# for cv in range(number_of_cv):\n",
    "    \n",
    "#     train, test, train_labels, test_labels = train_test_split(data, labels, test_size=0.25, stratify = labels)\n",
    "    \n",
    "#     dico = dict()\n",
    "#     dico['train'] = train\n",
    "#     dico['test'] = test\n",
    "#     dico['train_labels'] = train_labels\n",
    "#     dico['test_labels'] = test_labels\n",
    "    \n",
    "#     a_file = open(\"./csv/{0}_cv{1}.pkl\".format(name_file, cv), \"wb\")\n",
    "#     pickle.dump(dico, a_file)\n",
    "#     a_file.close()"
   ]
  }
 ],
 "metadata": {
  "kernelspec": {
   "display_name": "Python 3",
   "language": "python",
   "name": "python3"
  },
  "language_info": {
   "codemirror_mode": {
    "name": "ipython",
    "version": 3
   },
   "file_extension": ".py",
   "mimetype": "text/x-python",
   "name": "python",
   "nbconvert_exporter": "python",
   "pygments_lexer": "ipython3",
   "version": "3.8.5"
  }
 },
 "nbformat": 4,
 "nbformat_minor": 4
}
